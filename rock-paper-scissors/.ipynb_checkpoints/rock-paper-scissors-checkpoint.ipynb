{
 "cells": [
  {
   "cell_type": "markdown",
   "metadata": {},
   "source": [
    "# Rock Paper Scissors\n",
    "\n",
    "Let's play the famous game against our computer.\n",
    "\n",
    "https://en.wikipedia.org/wiki/Rock%E2%80%93paper%E2%80%93scissors\n",
    "\n",
    "The use of functions is recommended\n",
    "\n",
    "## Goals\n",
    "1. Use of loop\n",
    "2. Data capture by console\n",
    "3. Use if-elif-else\n",
    "4. Use of try-except\n",
    "5. Definition of functions. Modular programming\n",
    "6. Logical operators.\n",
    "7. Print\n",
    "8. Import modules"
   ]
  },
  {
   "cell_type": "code",
   "execution_count": 1,
   "metadata": {},
   "outputs": [
    {
     "name": "stdout",
     "output_type": "stream",
     "text": [
      "3\n"
     ]
    }
   ],
   "source": [
    "import random\n",
    "import math\n",
    "opcion_pc = random.randint(0,2)\n",
    "\n",
    "gestures = ['rock','paper','scissors']\n",
    "n_rounds = 5\n",
    "rounds_to_win = math.ceil(n_rounds/2)\n",
    "print (rounds_to_win)\n",
    "\n",
    "cpu_score = 0\n",
    "player_score = 0"
   ]
  },
  {
   "cell_type": "code",
   "execution_count": 2,
   "metadata": {},
   "outputs": [],
   "source": [
    "def gesture_options_pc ():\n",
    "    return (gestures[random.randint(0,2)])\n",
    "    "
   ]
  },
  {
   "cell_type": "code",
   "execution_count": 3,
   "metadata": {},
   "outputs": [],
   "source": [
    "def gesture_options_u ():\n",
    "    opcion_u = 'null'\n",
    "    while (opcion_u not in gestures):\n",
    "        format(opcion_u)\n",
    "        opcion_u = str(input(\"Please write rock, paper or scissors: \"))\n",
    "        opcion_u = opcion_u.lower()\n",
    "    return (opcion_u)"
   ]
  },
  {
   "cell_type": "code",
   "execution_count": 4,
   "metadata": {},
   "outputs": [],
   "source": [
    "def juego(x,y):\n",
    "    ganadores = [[0,1,2,2,1], [2,0,1,1,2], [1,2,0,2,1], [1,2,1,0,2], [2,1,2,1,0]]\n",
    "    return ganadores[x][y]"
   ]
  },
  {
   "cell_type": "code",
   "execution_count": 5,
   "metadata": {},
   "outputs": [],
   "source": [
    "def elecciones (x,y,z):\n",
    "    a = ['Tie', 'Computer won', 'Humans won']\n",
    "    print ('Player´s choice is: %s' %(x))\n",
    "    print ('Computer´s choice is: %s' %(y))\n",
    "    print ('Result of this round is: %s' %(a[z]))"
   ]
  },
  {
   "cell_type": "code",
   "execution_count": 6,
   "metadata": {},
   "outputs": [],
   "source": [
    "##total_rounds = 0\n",
    "##while (total_rounds < (n_rounds) and cpu_score < rounds_to_win and player_score < rounds_to_win):\n",
    "##    total_rounds +=1\n",
    "##    gestos_u = gesture_options_u()\n",
    "##    gestos_pc = gesture_options_pc()\n",
    "##    partida = juego(gestures.index(gestos_u),gestures.index(gestos_pc))\n",
    "##    elecciones(gestos_u, gestos_pc, partida)\n",
    "##    if partida == 1:\n",
    "##        cpu_score +=1\n",
    "##    elif partida == 2:\n",
    "##        player_score +=1\n",
    "        "
   ]
  },
  {
   "cell_type": "code",
   "execution_count": 7,
   "metadata": {},
   "outputs": [],
   "source": [
    "##if cpu_score > player_score:\n",
    "##    print ('Computer won the game.')\n",
    "##elif player_score > cpu_score:\n",
    "##    print ('Humans won the game.')\n",
    "##else: \n",
    "##    print ('Tie!Nobody wins.')\n",
    "\n",
    "    "
   ]
  },
  {
   "cell_type": "markdown",
   "metadata": {},
   "source": [
    "**Expected output**: Depends on the inputs, you know how to play and what to expect. "
   ]
  },
  {
   "cell_type": "markdown",
   "metadata": {},
   "source": [
    "# Bonus: Stone, paper, scissors, lizard, spock\n",
    "\n",
    "Now the improvement begins.\n",
    "\n",
    "![](images/rpsls.jpg)\n",
    "\n",
    "\n",
    "http://www.samkass.com/theories/RPSSL.html\n",
    "\n",
    "You are asked to impliment some improvements with respect to the simple previous game. In addition, the number of games (which must be ODD) will be requested per console until a valid number is entered.\n",
    "\n",
    "Improvements:\n",
    "* 5 options: stone, paper, scissors, lizard, spock\n",
    "* The number of games is requested per console\n",
    "Tip: Reuse code that you already use. If you have programmed intelligently, the bonus are simple modifications to the original game."
   ]
  },
  {
   "cell_type": "code",
   "execution_count": 8,
   "metadata": {},
   "outputs": [],
   "source": [
    "gesturesb = ['rock','paper','scissors', 'lizard','spock']\n",
    "\n",
    "def gesture_options_pcb ():\n",
    "    return (gesturesb[random.randint(0,4)])\n",
    "    \n",
    "def gesture_options_ub ():\n",
    "    opcion_u = 'null'\n",
    "    while (opcion_u not in gesturesb):\n",
    "        format(opcion_u)\n",
    "        opcion_u = str(input(\"Please write rock, paper, scissors, lizard or spock: \"))\n",
    "        opcion_u = opcion_u.lower()\n",
    "    return (opcion_u)"
   ]
  },
  {
   "cell_type": "code",
   "execution_count": null,
   "metadata": {},
   "outputs": [],
   "source": [
    "number_roundsb = 0\n",
    "while (number_roundsb % 2 == 0):\n",
    "    number_roundsb = int(input('Please pick the number of rounds.'))\n",
    "    \n",
    "rounds_to_winb = math.ceil(number_roundsb/2)"
   ]
  },
  {
   "cell_type": "markdown",
   "metadata": {},
   "source": [
    "**Expected output**: Depends on the inputs, you know how to play and what to expect. "
   ]
  },
  {
   "cell_type": "code",
   "execution_count": null,
   "metadata": {},
   "outputs": [],
   "source": [
    "total_rounds = 0\n",
    "while (total_rounds < (number_roundsb) and cpu_score < rounds_to_win and player_score < rounds_to_win):\n",
    "    total_rounds +=1\n",
    "    gestos_u = gesture_options_ub()\n",
    "    gestos_pc = gesture_options_pcb()\n",
    "    partida = juego(gesturesb.index(gestos_u),gesturesb.index(gestos_pc))\n",
    "    elecciones(gestos_u, gestos_pc, partida)\n",
    "    if partida == 1:\n",
    "        cpu_score +=1\n",
    "    elif partida == 2:\n",
    "        player_score +=1"
   ]
  },
  {
   "cell_type": "code",
   "execution_count": null,
   "metadata": {},
   "outputs": [],
   "source": [
    "if cpu_score > player_score:\n",
    "    print ('Computer won the game.')\n",
    "elif player_score > cpu_score:\n",
    "    print ('Humans won the game.')\n",
    "else: \n",
    "    print ('Tie!Nobody wins.')"
   ]
  }
 ],
 "metadata": {
  "kernelspec": {
   "display_name": "Python 3",
   "language": "python",
   "name": "python3"
  },
  "language_info": {
   "codemirror_mode": {
    "name": "ipython",
    "version": 3
   },
   "file_extension": ".py",
   "mimetype": "text/x-python",
   "name": "python",
   "nbconvert_exporter": "python",
   "pygments_lexer": "ipython3",
   "version": "3.7.6"
  }
 },
 "nbformat": 4,
 "nbformat_minor": 2
}
