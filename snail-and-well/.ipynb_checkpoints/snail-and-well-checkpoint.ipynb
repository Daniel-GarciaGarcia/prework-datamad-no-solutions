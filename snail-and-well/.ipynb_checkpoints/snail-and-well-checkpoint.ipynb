{
 "cells": [
  {
   "cell_type": "markdown",
   "metadata": {},
   "source": [
    "# Snail and well\n",
    "\n",
    "A snail falls at the bottom of a 125 cm well. Each day the snail rises 30 cm. But at night, while sleeping, slides 20 cm because the walls are wet. How many days does it take to escape from the well?\n",
    "\n",
    "TIP: http://puzzles.nigelcoldwell.co.uk/sixtytwo.htm"
   ]
  },
  {
   "cell_type": "markdown",
   "metadata": {},
   "source": [
    "## Solución"
   ]
  },
  {
   "cell_type": "code",
   "execution_count": 1,
   "metadata": {},
<<<<<<< HEAD
   "outputs": [
    {
     "name": "stdout",
     "output_type": "stream",
     "text": [
      "El caracol intenta salir del pozo el dia 1.\n",
      "El caracol intenta salir del pozo el dia 2.\n",
      "El caracol intenta salir del pozo el dia 3.\n",
      "El caracol intenta salir del pozo el dia 4.\n",
      "El caracol intenta salir del pozo el dia 5.\n",
      "El caracol intenta salir del pozo el dia 6.\n",
      "El caracol intenta salir del pozo el dia 7.\n",
      "El caracol intenta salir del pozo el dia 8.\n",
      "El caracol intenta salir del pozo el dia 9.\n",
      "El caracol intenta salir del pozo el dia 10.\n",
      "El caracol intenta salir del pozo el dia 11.\n",
      "el pequeño caracol lo consiguio el dia 11.\n"
     ]
    }
   ],
=======
   "outputs": [],
>>>>>>> 69893cdcdfa7977a4662a638db594be5bef1f52a
   "source": [
    "# Assign problem data to variables with representative names\n",
    "# well height, daily advance, night retreat, accumulated distance\n",
    "\n",
    "\n",
    "# Assign 0 to the variable that represents the solution\n",
    "\n",
    "\n",
    "# Write the code that solves the problem\n",
    "\n",
    "\n",
    "# Print the result with print('Days =', days)\n",
    "\n",
    "well_height=125\n",
    "daily_distance= 30\n",
    "nightly_distance= 20\n",
    "snail_position= 0\n",
    "days= 1\n",
    "\n",
    "while snail_position < well_height:\n",
    "    print('El caracol intenta salir del pozo el dia %d.' %(days))\n",
    "    snail_position += daily_distance\n",
    "    if snail_position < well_height:\n",
    "        snail_position -= nightly_distance\n",
    "        days +=1\n",
    "        \n",
    "print ('el pequeño caracol lo consiguio el dia %d.'%(days))\n"
   ]
  },
  {
   "cell_type": "markdown",
   "metadata": {},
   "source": [
    "**Expected output**: \n",
    "```\n",
    "Days = 11\n",
    "```"
   ]
  },
  {
   "cell_type": "markdown",
   "metadata": {},
   "source": [
    "## Goals\n",
    "\n",
    "1. Treatment of variables\n",
    "2. Use of loop **while**\n",
    "3. Use of conditional **if-else**\n",
    "4. Print in console"
   ]
  },
  {
   "cell_type": "markdown",
   "metadata": {},
   "source": [
    "## Bonus\n",
    "The distance traveled by the snail is now defined by a list.\n",
    "```\n",
    "advance_cm = [30, 21, 33, 77, 44, 45, 23, 45, 12, 34, 55]\n",
    "```\n",
    "How long does it take to raise the well?\n",
    "\n",
    "What is its maximum displacement in one day? And its minimum?\n",
    "\n",
    "What is its average speed during the day?\n",
    "\n",
    "What is the standard deviation of its displacement during the day?"
   ]
  },
  {
   "cell_type": "code",
   "execution_count": 2,
   "metadata": {},
<<<<<<< HEAD
   "outputs": [
    {
     "name": "stdout",
     "output_type": "stream",
     "text": [
      "El pequeño caracol intenta salir del pozo el dia 1.\n",
      "El pequeño caracol intenta salir del pozo el dia 2.\n",
      "El pequeño caracol intenta salir del pozo el dia 3.\n",
      "El pequeño caracol intenta salir del pozo el dia 4.\n",
      "El pequeño caracol intenta salir del pozo el dia 5.\n",
      "El pequeño caracol intenta salir del pozo el dia 6.\n",
      "El pequeño caracol lo consiguio el dia 6.\n"
     ]
    }
   ],
=======
   "outputs": [],
>>>>>>> 69893cdcdfa7977a4662a638db594be5bef1f52a
   "source": [
    "# Assign problem data to variables with representative names\n",
    "# well height, daily advance, night retreat, accumulated distance\n",
    "\n",
    "\n",
    "# Assign 0 to the variable that represents the solution\n",
    "\n",
    "\n",
    "# Write the code that solves the problem\n",
    "\n",
    "\n",
    "\n",
<<<<<<< HEAD
    "# Print the result with print('Days =', days)\n",
    "\n",
    "import numpy as np\n",
    "well_height=126\n",
    "nightly_distance= 20\n",
    "snail_position= 0\n",
    "days= 1\n",
    "index_arr = 0\n",
    "advance_cm = [30, 21, 33, 77, 44, 45, 23, 45, 12, 34, 55]\n",
    "advance_cm_stdev = []\n",
    "\n",
    "advance_cm_stdev.append(advance_cm)\n",
    "\n",
    "while snail_position < well_height:\n",
    "    print('El pequeño caracol intenta salir del pozo el dia %d.' %(days))\n",
    "    snail_position += advance_cm[index_arr]\n",
    "    index_arr+=1\n",
    "    if snail_position < well_height:\n",
    "        snail_position -= nightly_distance\n",
    "        days +=1\n",
    "            \n",
    "print ('El pequeño caracol lo consiguio el dia %d.'%(days))"
=======
    "# Print the result with print('Days =', days)\n"
>>>>>>> 69893cdcdfa7977a4662a638db594be5bef1f52a
   ]
  },
  {
   "cell_type": "markdown",
   "metadata": {},
   "source": [
    "**Expected output**: \n",
    "```\n",
    "Days = 6\n",
    "```"
   ]
  },
  {
   "cell_type": "code",
   "execution_count": 3,
   "metadata": {},
<<<<<<< HEAD
   "outputs": [
    {
     "name": "stdout",
     "output_type": "stream",
     "text": [
      "La distancia maxima recorrida un dia es: 77 en el dia: 4\n",
      "La distancia minima recorrida un dia es: 21 en el dia: 2\n"
     ]
    }
   ],
   "source": [
    "# What is its maximum displacement in a day? And its minimum?\n",
    "# He tomado los valores que el caracol usa para salir del pozo, no los valores totales.\n",
    "print ('La distancia maxima recorrida un dia es: %d en el dia: %d' %(max(advance_cm[:index_arr]),advance_cm.index(max (advance_cm[:index_arr]))+1))\n",
    "print ('La distancia minima recorrida un dia es: %d en el dia: %d' %(min(advance_cm[:index_arr]),advance_cm.index(min (advance_cm[:index_arr]))+1))"
=======
   "outputs": [],
   "source": [
    "# What is its maximum displacement in a day? And its minimum?\n"
>>>>>>> 69893cdcdfa7977a4662a638db594be5bef1f52a
   ]
  },
  {
   "cell_type": "markdown",
   "metadata": {},
   "source": [
    "**Expected output**: \n",
    "```\n",
    "77 12\n",
    "```"
   ]
  },
  {
   "cell_type": "code",
   "execution_count": 4,
   "metadata": {},
<<<<<<< HEAD
   "outputs": [
    {
     "name": "stdout",
     "output_type": "stream",
     "text": [
      "La media recorrida del caracol durante 6 dias es de: 21 cm\n"
     ]
    }
   ],
   "source": [
    "# What is its average progress?\n",
    "print ('La media recorrida del caracol durante %d dias es de: %d cm' %(days, (sum(advance_cm[:index_arr])-index_arr*20)/days))"
=======
   "outputs": [],
   "source": [
    "# What is its average progress?\n"
>>>>>>> 69893cdcdfa7977a4662a638db594be5bef1f52a
   ]
  },
  {
   "cell_type": "markdown",
   "metadata": {},
   "source": [
    "**Expected output**: \n",
    "```\n",
    "38.09090909090909\n",
    "```"
   ]
  },
  {
   "cell_type": "code",
   "execution_count": 5,
   "metadata": {},
   "outputs": [],
   "source": [
    "# What is the standard deviation of your displacement during the day?\n"
   ]
  },
  {
   "cell_type": "markdown",
   "metadata": {},
   "source": [
    "**Expected output**: \n",
    "```\n",
    "17.159437082600803\n",
    "```"
   ]
  }
 ],
 "metadata": {
  "kernelspec": {
   "display_name": "Python 3",
   "language": "python",
   "name": "python3"
  },
  "language_info": {
   "codemirror_mode": {
    "name": "ipython",
    "version": 3
   },
   "file_extension": ".py",
   "mimetype": "text/x-python",
   "name": "python",
   "nbconvert_exporter": "python",
   "pygments_lexer": "ipython3",
   "version": "3.7.6"
  }
 },
 "nbformat": 4,
 "nbformat_minor": 2
}
