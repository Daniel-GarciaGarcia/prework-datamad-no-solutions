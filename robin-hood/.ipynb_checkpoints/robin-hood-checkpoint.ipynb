{
 "cells": [
  {
   "cell_type": "markdown",
   "metadata": {},
   "source": [
    "# Robin Hood\n",
    "## Intro\n",
    "We are in a competition to win the archery contest in Sherwood. With our bow and arrows we shoot on a target and try to hit as close as possible to the center.\n",
    "\n",
    "The center of the target is represented by the values (0, 0) on the coordinate axes.\n",
    "\n",
    "![](images/arrows.jpg)\n",
    "\n",
    "## Goals:\n",
    "* data structures: lists, sets, tuples\n",
    "* logical operators: if-elif-else\n",
    "* loop: while/for\n",
    "* minimum (optional sorting)\n",
    "\n",
    "## Description:\n",
    "In the 2-dimensional space, a point can be defined by a pair of values that correspond to the horizontal coordinate (x) and the vertical coordinate (y). The space can be divided into 4 zones (quadrants): Q1, Q2, Q3, Q4. Whose single point of union is the point (0, 0).\n",
    "\n",
    "If a point is in Q1 both its x coordinate and the y are positive. I leave a link to wikipedia to familiarize yourself with these quadrants.\n",
    "\n",
    "https://en.wikipedia.org/wiki/Cartesian_coordinate_system\n",
    "\n",
    "https://en.wikipedia.org/wiki/Euclidean_distance\n",
    "\n",
    "## Shots\n",
    "```\n",
    "points = [(4, 5), (-0, 2), (4, 7), (1, -3), (3, -2), (4, 5),\n",
    "          (3, 2), (5, 7), (-5, 7), (2, 2), (-4, 5), (0, -2),\n",
    "          (-4, 7), (-1, 3), (-3, 2), (-4, -5), (-3, 2),\n",
    "          (5, 7), (5, 7), (2, 2), (9, 9), (-8, -9)]\n",
    "```\n",
    "\n",
    "## Tasks\n",
    "1. Robin Hood is famous for hitting an arrow with another arrow. Did you get it?\n",
    "2. Calculate how many arrows have fallen in each quadrant.\n",
    "3. Find the point closest to the center. Calculate its distance to the center. \n",
    "4. If the target has a radius of 9, calculate the number of arrows that must be picked up in the forest."
   ]
  },
  {
   "cell_type": "code",
   "execution_count": 1,
   "metadata": {},
   "outputs": [],
   "source": [
    "# Variables\n",
    "\n",
    "points = [(4, 5), (-0, 2), (4, 7), (1, -3), (3, -2), (4, 5),\n",
    "          (3, 2), (5, 7), (-5, 7), (2, 2), (-4, 5), (0, -2),\n",
    "          (-4, 7), (-1, 3), (-3, 2), (-4, -5), (-3, 2),\n",
    "          (5, 7), (5, 7), (2, 2), (9, 9), (-8, -9)]"
   ]
  },
  {
   "cell_type": "code",
   "execution_count": 2,
   "metadata": {},
   "outputs": [
    {
     "name": "stdout",
     "output_type": "stream",
     "text": [
      "Las cordenadas de las flechas repetidas son [(4, 5), (-3, 2), (5, 7), (2, 2)].\n",
      "True\n"
     ]
    }
   ],
   "source": [
    "# 1. Robin Hood is famous for hitting an arrow with another arrow. Did you get it?\n",
    "\n",
    "import math\n",
    "\n",
    "points = [(4, 5), (0, 2), (4, 7), (1, -3), (3, -2), (4, 5), (3, 2), (5, 7), (-5, 7), (2, 2), (-4, 5), (0, -2),\n",
    "          (-4, 7), (-1, 3), (-3, 2), (-4, -5), (-3, 2), (5, 7), (5, 7), (2, 2), (9, 9), (-8, -9)]\n",
    "unico =[]\n",
    "repetido =[]\n",
    "longitudes = []\n",
    "pointsOoR = []\n",
    "\n",
    "c1 = 0   \n",
    "c2= 0\n",
    "c3= 0\n",
    "c4= 0\n",
    "c5= 0\n",
    "err= 0\n",
    "def distancia(x,y):\n",
    "    longitud = math.sqrt(x**2 + y**2)\n",
    "    return (longitud)\n",
    "    \n",
    "for i in range (0,len (points)):\n",
    "    if points[i] not in unico:\n",
    "        unico.append (points[i])\n",
    "    else:\n",
    "        if points[i] not in repetido:\n",
    "            repetido.append (points[i])\n",
    "            \n",
    "print ('Las cordenadas de las flechas repetidas son %s.' %(repetido))\n",
    "if len(repetido) > 0:\n",
    "    print('True')"
   ]
  },
  {
   "cell_type": "markdown",
   "metadata": {},
   "source": [
    "**Expected output**:\n",
    "```\n",
    "True\n",
    "```"
   ]
  },
  {
   "cell_type": "code",
   "execution_count": 3,
   "metadata": {},
   "outputs": [
    {
     "name": "stdout",
     "output_type": "stream",
     "text": [
      "Las cordenadas que han caido en el primer cuadrante son: 10.\n",
      "Las del segundo cuadrante son: 6.\n",
      "Las del tercer cuadrante son: 2.\n",
      "Las del cuarto cuadrante son: 2.\n",
      "Las flechas que han caido en el eje X o Y igual a cero son: 2.\n"
     ]
    }
   ],
   "source": [
    "# 2. Calculate how many arrows have fallen in each quadrant.\n",
    "\n",
    "for i in range (0, len(points)):\n",
    "    if points[i][0] > 0 and points[i][1] > 0:\n",
    "        c1+=1\n",
    "    elif points [i][0] < 0 and points [i][1] > 0:\n",
    "        c2+=1\n",
    "    elif points [i][0] < 0 and points [i][1] < 0:\n",
    "        c3+=1\n",
    "    elif points [i][0] > 0 and points [i][1] < 0:\n",
    "        c4+=1\n",
    "    else:\n",
    "        c5+=1\n",
    "print ('Las cordenadas que han caido en el primer cuadrante son: %d.\\nLas del segundo cuadrante son: %d.\\nLas del tercer cuadrante son: %d.\\nLas del cuarto cuadrante son: %d.\\nLas flechas que han caido en el eje X o Y igual a cero son: %d.' %(c1, c2, c3, c4, c5))\n"
   ]
  },
  {
   "cell_type": "markdown",
   "metadata": {},
   "source": [
    "**Expected output**:\n",
    "```\n",
    "(10, 6, 2, 2)\n",
    "```"
   ]
  },
  {
   "cell_type": "code",
   "execution_count": 4,
   "metadata": {},
   "outputs": [
    {
     "name": "stdout",
     "output_type": "stream",
     "text": [
      "La distancia minima al centro es de 2.000000.\n",
      "(0, 2)\n"
     ]
    }
   ],
   "source": [
    "# 3. Find the point closest to the center. Calculate its distance to the center\n",
    "# Defining a function that calculates the distance to the center can help.\n",
    "\n",
    "for i in range (len(points)):\n",
    "    longitudes.append(distancia(points[i][0],points[i][1]))\n",
    "    if longitudes[i] >= 9:\n",
    "        err +=1\n",
    "        pointsOoR.append(points[i])\n",
    "\n",
    "print('La distancia minima al centro es de %f.'%(min(longitudes)))\n",
    "print(points[longitudes.index(min(longitudes))])"
   ]
  },
  {
   "cell_type": "markdown",
   "metadata": {},
   "source": [
    "**Expected output**:\n",
    "```\n",
    "(0, 2)\n",
    "2.0\n",
    "```"
   ]
  },
  {
   "cell_type": "code",
   "execution_count": 5,
   "metadata": {},
   "outputs": [
    {
     "name": "stdout",
     "output_type": "stream",
     "text": [
      "EL numero de flechas que se salen de la diana son: 2.\n",
      "[(9, 9), (-8, -9)]\n"
     ]
    }
   ],
   "source": [
    "# 4. If the target has a radius of 9, calculate the number of arrows that \n",
    "# must be picked up in the forest.\n",
    "print('EL numero de flechas que se salen de la diana son: %d.' %(err))\n",
    "print(pointsOoR)"
   ]
  },
  {
   "cell_type": "markdown",
   "metadata": {},
   "source": [
    "**Expected output**:\n",
    "```\n",
    "[(9, 9), (-8, -9)]\n",
    "2\n",
    "```"
   ]
  },
  {
   "cell_type": "code",
   "execution_count": null,
   "metadata": {},
   "outputs": [],
   "source": []
  }
 ],
 "metadata": {
  "kernelspec": {
   "display_name": "Python 3",
   "language": "python",
   "name": "python3"
  },
  "language_info": {
   "codemirror_mode": {
    "name": "ipython",
    "version": 3
   },
   "file_extension": ".py",
   "mimetype": "text/x-python",
   "name": "python",
   "nbconvert_exporter": "python",
   "pygments_lexer": "ipython3",
   "version": "3.7.6"
  }
 },
 "nbformat": 4,
 "nbformat_minor": 2
}
