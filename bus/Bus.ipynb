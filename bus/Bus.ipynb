{
 "cells": [
  {
   "cell_type": "code",
   "execution_count": 1,
   "metadata": {
    "scrolled": true
   },
   "outputs": [
    {
     "name": "stdout",
     "output_type": "stream",
     "text": [
      "El numero de paradas que realiza el autobus es: 9\n"
     ]
    }
   ],
   "source": [
    "import numpy as np\n",
    "\n",
    "\n",
    "stops = [(10, 0), (4, 1), (3, 5), (3, 4), (5, 1), (1, 5), (5, 8), (4, 6), (2, 3)]\n",
    "max_occupation = []\n",
    "print ('El numero de paradas que realiza el autobus es: %d'%(len (stops)))"
   ]
  },
  {
   "cell_type": "code",
   "execution_count": 2,
   "metadata": {},
   "outputs": [
    {
     "name": "stdout",
     "output_type": "stream",
     "text": [
      "[10, 13, 11, 10, 14, 10, 7, 5, 4]\n"
     ]
    }
   ],
   "source": [
    "for i in  range (0, len (stops)):\n",
    "    if i < 1:\n",
    "        max_occupation.append(stops[i][0]-stops[i][1])\n",
    "    else:\n",
    "        max_occupation.append(stops[i][0]-stops[i][1] + max_occupation[i-1])\n",
    "        \n",
    "print (max_occupation)\n"
   ]
  },
  {
   "cell_type": "code",
   "execution_count": 3,
   "metadata": {},
   "outputs": [
    {
     "name": "stdout",
     "output_type": "stream",
     "text": [
      "El numero de pasajeros maximos es 14 en la parada 5.\n"
     ]
    }
   ],
   "source": [
    "print ('El numero de pasajeros maximos es %d en la parada %d.' %(max(max_occupation), max_occupation.index(max(max_occupation))+1))"
   ]
  },
  {
   "cell_type": "code",
   "execution_count": 4,
   "metadata": {},
   "outputs": [
    {
     "name": "stdout",
     "output_type": "stream",
     "text": [
      "La media del numero de pasajeros es 9 y su desviacion tipica es 3.\n"
     ]
    }
   ],
   "source": [
    "print ('La media del numero de pasajeros es %d y su desviacion tipica es %d.' %(np.mean(max_occupation), np.std(max_occupation)))"
   ]
  }
 ],
 "metadata": {
  "kernelspec": {
   "display_name": "Python 3",
   "language": "python",
   "name": "python3"
  },
  "language_info": {
   "codemirror_mode": {
    "name": "ipython",
    "version": 3
   },
   "file_extension": ".py",
   "mimetype": "text/x-python",
   "name": "python",
   "nbconvert_exporter": "python",
   "pygments_lexer": "ipython3",
   "version": "3.7.6"
  }
 },
 "nbformat": 4,
 "nbformat_minor": 4
}
